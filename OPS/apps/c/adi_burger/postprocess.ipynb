{
 "cells": [
  {
   "cell_type": "code",
   "execution_count": 1,
   "metadata": {},
   "outputs": [],
   "source": [
    "import numpy as np\n",
    "import h5py as h5\n",
    "import math\n",
    "from math import exp"
   ]
  },
  {
   "cell_type": "code",
   "execution_count": 2,
   "metadata": {},
   "outputs": [],
   "source": [
    "def uAna(x,y,t,Re):\n",
    "    return 0.75 - 1 / (4 * (1 + exp((-4 * x + 4 * y) * Re / 32)))\n",
    "def vAna(x,y,t,Re):\n",
    "    return 0.75 + 1 / (4 * (1 + exp((-4 * x  + 4 * y) * Re / 32)))"
   ]
  },
  {
   "cell_type": "code",
   "execution_count": 3,
   "metadata": {},
   "outputs": [],
   "source": [
    "n=64\n",
    "Re=100\n",
    "h=1/(n-1)\n",
    "haloDepth=1\n",
    "idx=np.arange(-haloDepth,n+haloDepth)\n",
    "x=h*idx\n",
    "y=x.copy()\n"
   ]
  },
  {
   "cell_type": "code",
   "execution_count": 4,
   "metadata": {},
   "outputs": [],
   "source": [
    "res=h5.File('/home/u1717021/OPS-APP/adi_burger/adi_burger2D.h5','r')"
   ]
  },
  {
   "cell_type": "code",
   "execution_count": 5,
   "metadata": {},
   "outputs": [],
   "source": [
    "u=res['Burger2D']['u'][:,:].transpose()\n",
    "v=res['Burger2D']['v'][:,:].transpose()"
   ]
  },
  {
   "cell_type": "code",
   "execution_count": 6,
   "metadata": {},
   "outputs": [
    {
     "name": "stdout",
     "output_type": "stream",
     "text": [
      "ErrorX= 133.62622635749852  ErrorY= 246.84705227894972\n"
     ]
    }
   ],
   "source": [
    "errorX=0\n",
    "errorY=0\n",
    "#t=0\n",
    "t=0.0001\n",
    "for i in idx:\n",
    "    for j in idx:\n",
    "        errorX=(uAna(x[i],y[j],t,Re)-u[i,j])*(uAna(x[i],y[j],t,Re)-u[i,j])+errorX\n",
    "        errorY=(vAna(x[i],y[j],t,Re)-v[i,j])*(vAna(x[i],y[j],t,Re)-v[i,j])+errorY       \n",
    "print(\"ErrorX=\", errorX, \" ErrorY=\", errorY)"
   ]
  },
  {
   "cell_type": "code",
   "execution_count": null,
   "metadata": {},
   "outputs": [],
   "source": []
  }
 ],
 "metadata": {
  "kernelspec": {
   "display_name": "Python 3",
   "language": "python",
   "name": "python3"
  },
  "language_info": {
   "codemirror_mode": {
    "name": "ipython",
    "version": 3
   },
   "file_extension": ".py",
   "mimetype": "text/x-python",
   "name": "python",
   "nbconvert_exporter": "python",
   "pygments_lexer": "ipython3",
   "version": "3.8.5"
  }
 },
 "nbformat": 4,
 "nbformat_minor": 2
}

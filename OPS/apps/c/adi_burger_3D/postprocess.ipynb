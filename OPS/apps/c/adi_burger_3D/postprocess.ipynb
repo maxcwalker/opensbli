{
 "metadata": {
  "language_info": {
   "codemirror_mode": {
    "name": "ipython",
    "version": 3
   },
   "file_extension": ".py",
   "mimetype": "text/x-python",
   "name": "python",
   "nbconvert_exporter": "python",
   "pygments_lexer": "ipython3",
   "version": "3.6.9-final"
  },
  "orig_nbformat": 2,
  "kernelspec": {
   "name": "python3",
   "display_name": "Python 3",
   "language": "python"
  }
 },
 "nbformat": 4,
 "nbformat_minor": 2,
 "cells": [
  {
   "cell_type": "code",
   "execution_count": 1,
   "metadata": {},
   "outputs": [],
   "source": [
    "import numpy as np\n",
    "import h5py as h5\n",
    "import math\n",
    "from math import exp,sin,cos,sqrt"
   ]
  },
  {
   "cell_type": "code",
   "execution_count": 2,
   "metadata": {},
   "outputs": [],
   "source": [
    "# Analytical solution\n",
    "def uAna(x,y,z,t,Re):\n",
    "    return 2 * exp(-t / Re) * sin(x) * sin(y) * cos(z) / (Re * (cos(x) * sin(y) * cos(z) + 1))\n",
    "def vAna(x,y,z,t,Re):\n",
    "    return -2 * exp(-t / Re) * cos(x) * cos(y) * cos(z) / (Re * (cos(x) * sin(y) * cos(z) + 1))\n",
    "def wAna(x,y,z,t,Re):\n",
    "    return 2 * exp(-t / Re) * cos(x) * sin(y) * sin(z) / (Re * (cos(x) * sin(y) * cos(z) + 1))"
   ]
  },
  {
   "cell_type": "code",
   "execution_count": 3,
   "metadata": {},
   "outputs": [],
   "source": [
    "n=64\n",
    "Re=1\n",
    "h=1/(n-1)\n",
    "haloDepth=1\n",
    "idx=np.arange(-haloDepth,n+haloDepth)\n",
    "sidx=np.arange(1,n+1)\n",
    "x=h*idx\n",
    "y=x.copy()\n",
    "z=x.copy()\n"
   ]
  },
  {
   "cell_type": "code",
   "execution_count": 5,
   "metadata": {},
   "outputs": [],
   "source": [
    "def CheckError(fileName,time,index):\n",
    "    res=h5.File(fileName,'r')\n",
    "    ures=res['Burger3D']['u'][:,:,:].transpose(2, 1, 0)\n",
    "    vres=res['Burger3D']['v'][:,:,:].transpose(2, 1, 0)\n",
    "    wres=res['Burger3D']['w'][:,:,:].transpose(2, 1, 0)\n",
    "    errorX=0\n",
    "    errorY=0\n",
    "    errorZ=0\n",
    "    usqr = 0\n",
    "    vsqr = 0\n",
    "    wsqr = 0\n",
    "    t=time\n",
    "    for i in index:\n",
    "        for j in index:\n",
    "            for k in index:\n",
    "                errorX=(uAna(x[i],y[j],z[k],t,Re)-ures[i,j,k])*(uAna(x[i],y[j],z[k],t,Re)-ures[i,j,k])+errorX\n",
    "                errorY=(vAna(x[i],y[j],z[k],t,Re)-vres[i,j,k])*(vAna(x[i],y[j],z[k],t,Re)-vres[i,j,k])+errorY\n",
    "                errorZ=(wAna(x[i],y[j],z[k],t,Re)-wres[i,j,k])*(wAna(x[i],y[j],z[k],t,Re)-wres[i,j,k])+errorZ\n",
    "                usqr = usqr + uAna(x[i],y[j],z[k],t,Re)*uAna(x[i],y[j],z[k],t,Re)\n",
    "                vsqr = vsqr + vAna(x[i],y[j],z[k],t,Re)*vAna(x[i],y[j],z[k],t,Re)\n",
    "                wsqr = wsqr + wAna(x[i],y[j],z[k],t,Re)*wAna(x[i],y[j],z[k],t,Re)\n",
    "    return (sqrt(errorX/usqr),sqrt(errorY/vsqr),sqrt(errorZ/wsqr))\n",
    "\n"
   ]
  },
  {
   "cell_type": "code",
   "execution_count": 7,
   "metadata": {},
   "outputs": [
    {
     "output_type": "execute_result",
     "data": {
      "text/plain": [
       "(0.013288352535364567, 0.015656717240548575, 0.013286358818652401)"
      ]
     },
     "metadata": {},
     "execution_count": 7
    }
   ],
   "source": [
    "CheckError('/home/mhi63623/OPS/appbuild/adi_burger_3D/Burger3DResSeq.h5',0.01,sidx)"
   ]
  }
 ]
}